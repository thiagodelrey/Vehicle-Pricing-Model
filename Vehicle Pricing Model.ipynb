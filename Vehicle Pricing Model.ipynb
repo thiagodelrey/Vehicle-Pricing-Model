{
 "cells": [
  {
   "attachments": {},
   "cell_type": "markdown",
   "metadata": {},
   "source": [
    "## Introduction\n",
    "\n",
    "The used car sales service 'Rusty Bargain' is developing an application to attract new customers. In this application, the user should be able to quickly find out the market value of his car.\n",
    "\n",
    "There is a historical database with:\n",
    "- technical specifications;\n",
    "- trim versions;\n",
    "- and prices.\n",
    "\n",
    "It will be necessary to build a machine learning model to determine the value of a vehicle.\n",
    "\n",
    "'Rusty Bargain' is interested in:\n",
    "- the quality of the prediction;\n",
    "- the speed of the prediction;\n",
    "- the time required for training."
   ]
  },
  {
   "attachments": {},
   "cell_type": "markdown",
   "metadata": {},
   "source": [
    "## Data Preparation"
   ]
  },
  {
   "attachments": {},
   "cell_type": "markdown",
   "metadata": {},
   "source": [
    "### Importing Data"
   ]
  },
  {
   "cell_type": "code",
   "execution_count": 1,
   "metadata": {},
   "outputs": [],
   "source": [
    "# Importing Libraries\n",
    "import pandas as pd\n",
    "import numpy as np\n",
    "import seaborn as sns\n",
    "from matplotlib import pyplot as plt\n",
    "from sklearn.model_selection import train_test_split, cross_val_score, cross_val_predict\n",
    "from sklearn.preprocessing import StandardScaler\n",
    "from sklearn.preprocessing import OneHotEncoder\n",
    "from sklearn.metrics import accuracy_score\n",
    "from sklearn.preprocessing import OrdinalEncoder, LabelEncoder\n",
    "from sklearn.impute import SimpleImputer\n",
    "from sklearn.experimental import enable_iterative_imputer\n",
    "from sklearn.impute import IterativeImputer\n",
    "from sklearn.impute import KNNImputer\n",
    "from sklearn.linear_model import LinearRegression\n",
    "from sklearn.tree import DecisionTreeRegressor\n",
    "from sklearn.ensemble import RandomForestRegressor\n",
    "from sklearn.metrics import mean_squared_error as mse\n",
    "from sklearn.preprocessing import MaxAbsScaler\n",
    "import xgboost as xgb\n",
    "import lightgbm as lgb\n",
    "from lightgbm import LGBMRegressor\n",
    "from lightgbm import early_stopping, log_evaluation\n",
    "import time\n",
    "\n",
    "import sklearn.linear_model\n",
    "import sklearn.metrics\n",
    "import sklearn.neighbors\n",
    "import sklearn.preprocessing"
   ]
  },
  {
   "cell_type": "code",
   "execution_count": 2,
   "metadata": {},
   "outputs": [],
   "source": [
    "# Importing Data from file.\n",
    "df = pd.read_csv('car_data.csv')"
   ]
  },
  {
   "attachments": {},
   "cell_type": "markdown",
   "metadata": {},
   "source": [
    "### Pre-Data Analysis"
   ]
  },
  {
   "cell_type": "code",
   "execution_count": 3,
   "metadata": {},
   "outputs": [
    {
     "data": {
      "text/html": [
       "<div>\n",
       "<style scoped>\n",
       "    .dataframe tbody tr th:only-of-type {\n",
       "        vertical-align: middle;\n",
       "    }\n",
       "\n",
       "    .dataframe tbody tr th {\n",
       "        vertical-align: top;\n",
       "    }\n",
       "\n",
       "    .dataframe thead th {\n",
       "        text-align: right;\n",
       "    }\n",
       "</style>\n",
       "<table border=\"1\" class=\"dataframe\">\n",
       "  <thead>\n",
       "    <tr style=\"text-align: right;\">\n",
       "      <th></th>\n",
       "      <th>DateCrawled</th>\n",
       "      <th>Price</th>\n",
       "      <th>VehicleType</th>\n",
       "      <th>RegistrationYear</th>\n",
       "      <th>Gearbox</th>\n",
       "      <th>Power</th>\n",
       "      <th>Model</th>\n",
       "      <th>Mileage</th>\n",
       "      <th>RegistrationMonth</th>\n",
       "      <th>FuelType</th>\n",
       "      <th>Brand</th>\n",
       "      <th>NotRepaired</th>\n",
       "      <th>DateCreated</th>\n",
       "      <th>NumberOfPictures</th>\n",
       "      <th>PostalCode</th>\n",
       "      <th>LastSeen</th>\n",
       "    </tr>\n",
       "  </thead>\n",
       "  <tbody>\n",
       "    <tr>\n",
       "      <th>0</th>\n",
       "      <td>24/03/2016 11:52</td>\n",
       "      <td>480</td>\n",
       "      <td>NaN</td>\n",
       "      <td>1993</td>\n",
       "      <td>manual</td>\n",
       "      <td>0</td>\n",
       "      <td>golf</td>\n",
       "      <td>150000</td>\n",
       "      <td>0</td>\n",
       "      <td>petrol</td>\n",
       "      <td>volkswagen</td>\n",
       "      <td>NaN</td>\n",
       "      <td>24/03/2016 00:00</td>\n",
       "      <td>0</td>\n",
       "      <td>70435</td>\n",
       "      <td>07/04/2016 03:16</td>\n",
       "    </tr>\n",
       "    <tr>\n",
       "      <th>1</th>\n",
       "      <td>24/03/2016 10:58</td>\n",
       "      <td>18300</td>\n",
       "      <td>coupe</td>\n",
       "      <td>2011</td>\n",
       "      <td>manual</td>\n",
       "      <td>190</td>\n",
       "      <td>NaN</td>\n",
       "      <td>125000</td>\n",
       "      <td>5</td>\n",
       "      <td>gasoline</td>\n",
       "      <td>audi</td>\n",
       "      <td>yes</td>\n",
       "      <td>24/03/2016 00:00</td>\n",
       "      <td>0</td>\n",
       "      <td>66954</td>\n",
       "      <td>07/04/2016 01:46</td>\n",
       "    </tr>\n",
       "    <tr>\n",
       "      <th>2</th>\n",
       "      <td>14/03/2016 12:52</td>\n",
       "      <td>9800</td>\n",
       "      <td>suv</td>\n",
       "      <td>2004</td>\n",
       "      <td>auto</td>\n",
       "      <td>163</td>\n",
       "      <td>grand</td>\n",
       "      <td>125000</td>\n",
       "      <td>8</td>\n",
       "      <td>gasoline</td>\n",
       "      <td>jeep</td>\n",
       "      <td>NaN</td>\n",
       "      <td>14/03/2016 00:00</td>\n",
       "      <td>0</td>\n",
       "      <td>90480</td>\n",
       "      <td>05/04/2016 12:47</td>\n",
       "    </tr>\n",
       "    <tr>\n",
       "      <th>3</th>\n",
       "      <td>17/03/2016 16:54</td>\n",
       "      <td>1500</td>\n",
       "      <td>small</td>\n",
       "      <td>2001</td>\n",
       "      <td>manual</td>\n",
       "      <td>75</td>\n",
       "      <td>golf</td>\n",
       "      <td>150000</td>\n",
       "      <td>6</td>\n",
       "      <td>petrol</td>\n",
       "      <td>volkswagen</td>\n",
       "      <td>no</td>\n",
       "      <td>17/03/2016 00:00</td>\n",
       "      <td>0</td>\n",
       "      <td>91074</td>\n",
       "      <td>17/03/2016 17:40</td>\n",
       "    </tr>\n",
       "    <tr>\n",
       "      <th>4</th>\n",
       "      <td>31/03/2016 17:25</td>\n",
       "      <td>3600</td>\n",
       "      <td>small</td>\n",
       "      <td>2008</td>\n",
       "      <td>manual</td>\n",
       "      <td>69</td>\n",
       "      <td>fabia</td>\n",
       "      <td>90000</td>\n",
       "      <td>7</td>\n",
       "      <td>gasoline</td>\n",
       "      <td>skoda</td>\n",
       "      <td>no</td>\n",
       "      <td>31/03/2016 00:00</td>\n",
       "      <td>0</td>\n",
       "      <td>60437</td>\n",
       "      <td>06/04/2016 10:17</td>\n",
       "    </tr>\n",
       "  </tbody>\n",
       "</table>\n",
       "</div>"
      ],
      "text/plain": [
       "        DateCrawled  Price VehicleType  RegistrationYear Gearbox  Power  \\\n",
       "0  24/03/2016 11:52    480         NaN              1993  manual      0   \n",
       "1  24/03/2016 10:58  18300       coupe              2011  manual    190   \n",
       "2  14/03/2016 12:52   9800         suv              2004    auto    163   \n",
       "3  17/03/2016 16:54   1500       small              2001  manual     75   \n",
       "4  31/03/2016 17:25   3600       small              2008  manual     69   \n",
       "\n",
       "   Model  Mileage  RegistrationMonth  FuelType       Brand NotRepaired  \\\n",
       "0   golf   150000                  0    petrol  volkswagen         NaN   \n",
       "1    NaN   125000                  5  gasoline        audi         yes   \n",
       "2  grand   125000                  8  gasoline        jeep         NaN   \n",
       "3   golf   150000                  6    petrol  volkswagen          no   \n",
       "4  fabia    90000                  7  gasoline       skoda          no   \n",
       "\n",
       "        DateCreated  NumberOfPictures  PostalCode          LastSeen  \n",
       "0  24/03/2016 00:00                 0       70435  07/04/2016 03:16  \n",
       "1  24/03/2016 00:00                 0       66954  07/04/2016 01:46  \n",
       "2  14/03/2016 00:00                 0       90480  05/04/2016 12:47  \n",
       "3  17/03/2016 00:00                 0       91074  17/03/2016 17:40  \n",
       "4  31/03/2016 00:00                 0       60437  06/04/2016 10:17  "
      ]
     },
     "metadata": {},
     "output_type": "display_data"
    },
    {
     "name": "stdout",
     "output_type": "stream",
     "text": [
      "\n",
      "<class 'pandas.core.frame.DataFrame'>\n",
      "RangeIndex: 354369 entries, 0 to 354368\n",
      "Data columns (total 16 columns):\n",
      " #   Column             Non-Null Count   Dtype \n",
      "---  ------             --------------   ----- \n",
      " 0   DateCrawled        354369 non-null  object\n",
      " 1   Price              354369 non-null  int64 \n",
      " 2   VehicleType        316879 non-null  object\n",
      " 3   RegistrationYear   354369 non-null  int64 \n",
      " 4   Gearbox            334536 non-null  object\n",
      " 5   Power              354369 non-null  int64 \n",
      " 6   Model              334664 non-null  object\n",
      " 7   Mileage            354369 non-null  int64 \n",
      " 8   RegistrationMonth  354369 non-null  int64 \n",
      " 9   FuelType           321474 non-null  object\n",
      " 10  Brand              354369 non-null  object\n",
      " 11  NotRepaired        283215 non-null  object\n",
      " 12  DateCreated        354369 non-null  object\n",
      " 13  NumberOfPictures   354369 non-null  int64 \n",
      " 14  PostalCode         354369 non-null  int64 \n",
      " 15  LastSeen           354369 non-null  object\n",
      "dtypes: int64(7), object(9)\n",
      "memory usage: 43.3+ MB\n"
     ]
    }
   ],
   "source": [
    "# Data preview\n",
    "display(df.head())\n",
    "print()\n",
    "df.info()"
   ]
  },
  {
   "cell_type": "code",
   "execution_count": 4,
   "metadata": {},
   "outputs": [
    {
     "name": "stdout",
     "output_type": "stream",
     "text": [
      "DateCrawled              0\n",
      "Price                    0\n",
      "VehicleType          37490\n",
      "RegistrationYear         0\n",
      "Gearbox              19833\n",
      "Power                    0\n",
      "Model                19705\n",
      "Mileage                  0\n",
      "RegistrationMonth        0\n",
      "FuelType             32895\n",
      "Brand                    0\n",
      "NotRepaired          71154\n",
      "DateCreated              0\n",
      "NumberOfPictures         0\n",
      "PostalCode               0\n",
      "LastSeen                 0\n",
      "dtype: int64\n"
     ]
    }
   ],
   "source": [
    "# Missing values\n",
    "print(df.isna().sum())"
   ]
  },
  {
   "attachments": {},
   "cell_type": "markdown",
   "metadata": {},
   "source": [
    "The description of the column titles is observed using capital letters and the words are not divided. They will only be suitable for lowercase letters and the words will be divided by underscore (_).\n",
    "\n",
    "Missing values ​​were also observed in 5 columns and these will be investigated to make a decision on whether or not to fill in this information.\n",
    "\n",
    "The columns `DateCrawled`, `DateCreated` and `LastSeen` have data of the 'object' type. These will not be adjusted, as they will be excluded as they do not influence the proposed study."
   ]
  },
  {
   "attachments": {},
   "cell_type": "markdown",
   "metadata": {},
   "source": [
    "### Data Preparation"
   ]
  },
  {
   "cell_type": "code",
   "execution_count": 5,
   "metadata": {},
   "outputs": [
    {
     "data": {
      "text/html": [
       "<div>\n",
       "<style scoped>\n",
       "    .dataframe tbody tr th:only-of-type {\n",
       "        vertical-align: middle;\n",
       "    }\n",
       "\n",
       "    .dataframe tbody tr th {\n",
       "        vertical-align: top;\n",
       "    }\n",
       "\n",
       "    .dataframe thead th {\n",
       "        text-align: right;\n",
       "    }\n",
       "</style>\n",
       "<table border=\"1\" class=\"dataframe\">\n",
       "  <thead>\n",
       "    <tr style=\"text-align: right;\">\n",
       "      <th></th>\n",
       "      <th>date_crawled</th>\n",
       "      <th>price</th>\n",
       "      <th>vehicle_type</th>\n",
       "      <th>registration_year</th>\n",
       "      <th>gearbox</th>\n",
       "      <th>power</th>\n",
       "      <th>model</th>\n",
       "      <th>mileage</th>\n",
       "      <th>registration_month</th>\n",
       "      <th>fuel_type</th>\n",
       "      <th>brand</th>\n",
       "      <th>not_repaired</th>\n",
       "      <th>date_created</th>\n",
       "      <th>number_of_pictures</th>\n",
       "      <th>postal_code</th>\n",
       "      <th>last_seen</th>\n",
       "    </tr>\n",
       "  </thead>\n",
       "  <tbody>\n",
       "    <tr>\n",
       "      <th>0</th>\n",
       "      <td>24/03/2016 11:52</td>\n",
       "      <td>480</td>\n",
       "      <td>NaN</td>\n",
       "      <td>1993</td>\n",
       "      <td>manual</td>\n",
       "      <td>0</td>\n",
       "      <td>golf</td>\n",
       "      <td>150000</td>\n",
       "      <td>0</td>\n",
       "      <td>petrol</td>\n",
       "      <td>volkswagen</td>\n",
       "      <td>NaN</td>\n",
       "      <td>24/03/2016 00:00</td>\n",
       "      <td>0</td>\n",
       "      <td>70435</td>\n",
       "      <td>07/04/2016 03:16</td>\n",
       "    </tr>\n",
       "  </tbody>\n",
       "</table>\n",
       "</div>"
      ],
      "text/plain": [
       "       date_crawled  price vehicle_type  registration_year gearbox  power  \\\n",
       "0  24/03/2016 11:52    480          NaN               1993  manual      0   \n",
       "\n",
       "  model  mileage  registration_month fuel_type       brand not_repaired  \\\n",
       "0  golf   150000                   0    petrol  volkswagen          NaN   \n",
       "\n",
       "       date_created  number_of_pictures  postal_code         last_seen  \n",
       "0  24/03/2016 00:00                   0        70435  07/04/2016 03:16  "
      ]
     },
     "metadata": {},
     "output_type": "display_data"
    }
   ],
   "source": [
    "# Changing column names\n",
    "df.columns = ['date_crawled', 'price', 'vehicle_type', 'registration_year', 'gearbox', 'power', 'model', 'mileage', 'registration_month', 'fuel_type', 'brand', 'not_repaired', 'date_created', 'number_of_pictures', 'postal_code', 'last_seen']\n",
    "\n",
    "# Verification\n",
    "display(df.head(1))"
   ]
  },
  {
   "cell_type": "code",
   "execution_count": 6,
   "metadata": {},
   "outputs": [
    {
     "data": {
      "text/html": [
       "<div>\n",
       "<style scoped>\n",
       "    .dataframe tbody tr th:only-of-type {\n",
       "        vertical-align: middle;\n",
       "    }\n",
       "\n",
       "    .dataframe tbody tr th {\n",
       "        vertical-align: top;\n",
       "    }\n",
       "\n",
       "    .dataframe thead th {\n",
       "        text-align: right;\n",
       "    }\n",
       "</style>\n",
       "<table border=\"1\" class=\"dataframe\">\n",
       "  <thead>\n",
       "    <tr style=\"text-align: right;\">\n",
       "      <th></th>\n",
       "      <th>price</th>\n",
       "      <th>vehicle_type</th>\n",
       "      <th>registration_year</th>\n",
       "      <th>gearbox</th>\n",
       "      <th>power</th>\n",
       "      <th>model</th>\n",
       "      <th>mileage</th>\n",
       "      <th>registration_month</th>\n",
       "      <th>fuel_type</th>\n",
       "      <th>brand</th>\n",
       "      <th>not_repaired</th>\n",
       "      <th>number_of_pictures</th>\n",
       "      <th>postal_code</th>\n",
       "    </tr>\n",
       "  </thead>\n",
       "  <tbody>\n",
       "    <tr>\n",
       "      <th>0</th>\n",
       "      <td>480</td>\n",
       "      <td>NaN</td>\n",
       "      <td>1993</td>\n",
       "      <td>manual</td>\n",
       "      <td>0</td>\n",
       "      <td>golf</td>\n",
       "      <td>150000</td>\n",
       "      <td>0</td>\n",
       "      <td>petrol</td>\n",
       "      <td>volkswagen</td>\n",
       "      <td>NaN</td>\n",
       "      <td>0</td>\n",
       "      <td>70435</td>\n",
       "    </tr>\n",
       "  </tbody>\n",
       "</table>\n",
       "</div>"
      ],
      "text/plain": [
       "   price vehicle_type  registration_year gearbox  power model  mileage  \\\n",
       "0    480          NaN               1993  manual      0  golf   150000   \n",
       "\n",
       "   registration_month fuel_type       brand not_repaired  number_of_pictures  \\\n",
       "0                   0    petrol  volkswagen          NaN                   0   \n",
       "\n",
       "   postal_code  \n",
       "0        70435  "
      ]
     },
     "metadata": {},
     "output_type": "display_data"
    }
   ],
   "source": [
    "# Excluding 'date_crawled', 'date_created' and 'last_seen' columns\n",
    "df.drop(['date_crawled', 'date_created', 'last_seen'], axis=1, inplace=True)\n",
    "\n",
    "# Checking\n",
    "display(df.head(1))"
   ]
  },
  {
   "attachments": {},
   "cell_type": "markdown",
   "metadata": {},
   "source": [
    "Investigating unique values ​​in columns"
   ]
  },
  {
   "cell_type": "code",
   "execution_count": 7,
   "metadata": {},
   "outputs": [
    {
     "name": "stdout",
     "output_type": "stream",
     "text": [
      "['bus' 'convertible' 'coupe' 'other' 'sedan' 'small' 'suv' 'wagon' nan]\n"
     ]
    }
   ],
   "source": [
    "# Analysis of the 'vehicle_type' column\n",
    "print(df['vehicle_type'].sort_values().unique())"
   ]
  },
  {
   "cell_type": "code",
   "execution_count": 8,
   "metadata": {},
   "outputs": [
    {
     "name": "stdout",
     "output_type": "stream",
     "text": [
      "['auto' 'manual' nan]\n"
     ]
    }
   ],
   "source": [
    "# Analysis of the 'gearbox' column\n",
    "print(df['gearbox'].sort_values().unique())"
   ]
  },
  {
   "cell_type": "code",
   "execution_count": 9,
   "metadata": {},
   "outputs": [
    {
     "name": "stdout",
     "output_type": "stream",
     "text": [
      "[    0     1     2     3     4     5     6     7     8     9    10    11\n",
      "    12    13    14    15    16    17    18    19    20    21    22    23\n",
      "    24    25    26    27    28    29    30    31    32    33    34    35\n",
      "    36    37    38    39    40    41    42    43    44    45    46    47\n",
      "    48    49    50    51    52    53    54    55    56    57    58    59\n",
      "    60    61    62    63    64    65    66    67    68    69    70    71\n",
      "    72    73    74    75    76    77    78    79    80    81    82    83\n",
      "    84    85    86    87    88    89    90    91    92    93    94    95\n",
      "    96    97    98    99   100   101   102   103   104   105   106   107\n",
      "   108   109   110   111   112   113   114   115   116   117   118   119\n",
      "   120   121   122   123   124   125   126   127   128   129   130   131\n",
      "   132   133   134   135   136   137   138   139   140   141   142   143\n",
      "   144   145   146   147   148   149   150   151   152   153   154   155\n",
      "   156   157   158   159   160   161   162   163   164   165   166   167\n",
      "   168   169   170   171   172   173   174   175   176   177   178   179\n",
      "   180   181   182   183   184   185   186   187   188   189   190   191\n",
      "   192   193   194   195   196   197   198   199   200   201   202   203\n",
      "   204   205   206   207   208   209   210   211   212   213   214   215\n",
      "   216   217   218   219   220   221   222   223   224   225   226   227\n",
      "   228   229   230   231   232   233   234   235   236   237   238   239\n",
      "   240   241   242   243   244   245   246   247   248   249   250   251\n",
      "   252   253   254   255   256   257   258   259   260   261   262   264\n",
      "   265   266   267   268   269   270   271   272   273   274   275   276\n",
      "   277   278   279   280   281   282   283   284   285   286   287   288\n",
      "   289   290   292   293   294   295   296   297   298   299   300   301\n",
      "   303   304   305   306   307   308   309   310   311   313   314   315\n",
      "   316   317   318   320   321   322   323   324   325   326   327   328\n",
      "   329   330   331   332   333   334   335   336   337   338   339   340\n",
      "   341   343   344   345   346   347   348   349   350   351   352   353\n",
      "   354   355   356   357   358   360   361   362   363   364   365   367\n",
      "   368   370   371   374   375   376   377   379   380   381   382   385\n",
      "   386   387   388   390   392   394   396   398   399   400   401   402\n",
      "   405   408   409   411   416   420   421   425   426   428   430   431\n",
      "   435   440   442   445   449   450   454   457   459   460   475   476\n",
      "   485   487   489   490   500   504   505   507   508   510   514   515\n",
      "   517   519   520   521   525   530   540   541   544   550   551   553\n",
      "   560   572   574   579   580   584   585   599   600   601   602   603\n",
      "   604   606   607   610   612   620   640   645   650   651   671   678\n",
      "   682   685   696   700   702   703   732   743   750   751   754   771\n",
      "   776   800   805   808   850   851   871   900   901   902   903   907\n",
      "   909   923   950   952   953   960   998   999  1000  1001  1002  1003\n",
      "  1004  1005  1011  1012  1016  1017  1021  1024  1054  1055  1056  1062\n",
      "  1079  1082  1090  1100  1102  1103  1105  1111  1115  1120  1149  1151\n",
      "  1158  1160  1162  1164  1199  1200  1202  1221  1223  1230  1239  1240\n",
      "  1241  1250  1252  1256  1275  1288  1299  1300  1312  1317  1324  1339\n",
      "  1351  1360  1362  1363  1367  1390  1394  1398  1399  1400  1401  1403\n",
      "  1405  1416  1432  1433  1436  1500  1501  1502  1503  1506  1521  1548\n",
      "  1595  1596  1597  1598  1600  1625  1631  1653  1659  1689  1700  1701\n",
      "  1703  1704  1707  1753  1771  1779  1780  1781  1783  1793  1796  1799\n",
      "  1800  1801  1870  1895  1896  1900  1910  1920  1922  1933  1937  1968\n",
      "  1986  1988  1992  1993  1995  1998  1999  2000  2004  2005  2007  2009\n",
      "  2016  2017  2018  2172  2200  2201  2331  2340  2389  2402  2461  2598\n",
      "  2729  2789  2792  2799  3000  3199  3454  3500  3750  4400  4507  4700\n",
      "  5000  5411  5420  5575  5809  5815  5867  6006  6010  6011  6012  6018\n",
      "  6045  6062  6226  6512  6920  7508  7511  7512  7515  7518  7529  7544\n",
      "  8011  8259  8404  8500  9000  9007  9010  9011  9012  9013  9710 10000\n",
      " 10110 10218 10311 10317 10520 10522 10710 10910 10912 11011 11025 11111\n",
      " 11509 11530 11635 12012 12510 12512 12684 13616 13636 14009 15001 15016\n",
      " 15017 15020 15033 16011 16051 16311 16312 17011 17019 17410 17700 17932\n",
      " 19208 19211 19312 20000]\n",
      "\n",
      "power\n",
      "0       40225\n",
      "75      24023\n",
      "60      15897\n",
      "150     14590\n",
      "101     13298\n",
      "        ...  \n",
      "610         1\n",
      "6006        1\n",
      "5815        1\n",
      "6018        1\n",
      "1241        1\n",
      "Name: count, Length: 712, dtype: int64\n"
     ]
    }
   ],
   "source": [
    "# Analysis of the 'power' column\n",
    "print(df['power'].sort_values().unique())\n",
    "print()\n",
    "print(df['power'].value_counts())"
   ]
  },
  {
   "attachments": {},
   "cell_type": "markdown",
   "metadata": {},
   "source": [
    "There are vehicles that were launched with very low powers, such as 0 (zero), 1 (one), 2 (two), as well as very high powers such as 20000 (twenty thousand), 19312 (nineteen thousand three hundred and one dose)."
   ]
  },
  {
   "cell_type": "code",
   "execution_count": 10,
   "metadata": {},
   "outputs": [
    {
     "data": {
      "image/png": "[encoded data removed]",
      "text/plain": [
       "<Figure size 1000x500 with 1 Axes>"
      ]
     },
     "metadata": {},
     "output_type": "display_data"
    }
   ],
   "source": [
    "# Plotting density graph\n",
    "plt.figure(figsize=(10, 5))\n",
    "sns.kdeplot(df['power'], label='Engine Power - hp', fill=True)\n",
    "plt.legend(fontsize=12)\n",
    "plt.title('Engine Power - hp')\n",
    "plt.xlabel('Total Vehicles by Engine Power - hp', fontsize=12, labelpad = 15)\n",
    "plt.ylabel('Density', fontsize=12, labelpad=15)\n",
    "plt.ylim(0, 0.005)    \n",
    "plt.show()"
   ]
  },
  {
   "attachments": {},
   "cell_type": "markdown",
   "metadata": {},
   "source": [
    "The values ​​of 60hp and 600hp will be considered as outlier cut lines. Lines with values ​​outside this range will be excluded from the base."
   ]
  },
  {
   "cell_type": "code",
   "execution_count": 11,
   "metadata": {},
   "outputs": [
    {
     "name": "stdout",
     "output_type": "stream",
     "text": [
      "[ 61  62  63  64  65  66  67  68  69  70  71  72  73  74  75  76  77  78\n",
      "  79  80  81  82  83  84  85  86  87  88  89  90  91  92  93  94  95  96\n",
      "  97  98  99 100 101 102 103 104 105 106 107 108 109 110 111 112 113 114\n",
      " 115 116 117 118 119 120 121 122 123 124 125 126 127 128 129 130 131 132\n",
      " 133 134 135 136 137 138 139 140 141 142 143 144 145 146 147 148 149 150\n",
      " 151 152 153 154 155 156 157 158 159 160 161 162 163 164 165 166 167 168\n",
      " 169 170 171 172 173 174 175 176 177 178 179 180 181 182 183 184 185 186\n",
      " 187 188 189 190 191 192 193 194 195 196 197 198 199 200 201 202 203 204\n",
      " 205 206 207 208 209 210 211 212 213 214 215 216 217 218 219 220 221 222\n",
      " 223 224 225 226 227 228 229 230 231 232 233 234 235 236 237 238 239 240\n",
      " 241 242 243 244 245 246 247 248 249 250 251 252 253 254 255 256 257 258\n",
      " 259 260 261 262 264 265 266 267 268 269 270 271 272 273 274 275 276 277\n",
      " 278 279 280 281 282 283 284 285 286 287 288 289 290 292 293 294 295 296\n",
      " 297 298 299 300 301 303 304 305 306 307 308 309 310 311 313 314 315 316\n",
      " 317 318 320 321 322 323 324 325 326 327 328 329 330 331 332 333 334 335\n",
      " 336 337 338 339 340 341 343 344 345 346 347 348 349 350 351 352 353 354\n",
      " 355 356 357 358 360 361 362 363 364 365 367 368 370 371 374 375 376 377\n",
      " 379 380 381 382 385 386 387 388 390 392 394 396 398 399 400 401 402 405\n",
      " 408 409 411 416 420 421 425 426 428 430 431 435 440 442 445 449 450 454\n",
      " 457 459 460 475 476 485 487 489 490 500 504 505 507 508 510 514 515 517\n",
      " 519 520 521 525 530 540 541 544 550 551 553 560 572 574 579 580 584 585\n",
      " 599]\n"
     ]
    }
   ],
   "source": [
    "# Excluding outliers\n",
    "df = df.query(\"(power > 60) and (power < 600)\")\n",
    "\n",
    "# Checking\n",
    "print(df['power'].sort_values().unique())"
   ]
  },
  {
   "cell_type": "code",
   "execution_count": 12,
   "metadata": {},
   "outputs": [
    {
     "data": {
      "image/png": "[encoded data removed]",
      "text/plain": [
       "<Figure size 1000x500 with 1 Axes>"
      ]
     },
     "metadata": {},
     "output_type": "display_data"
    }
   ],
   "source": [
    "# Replotting the density graph\n",
    "plt.figure(figsize=(10, 5))\n",
    "sns.kdeplot(df['power'], label='Engine Power - hp', fill=True)\n",
    "plt.legend(fontsize=12)\n",
    "plt.title('Engine Power - hp')\n",
    "plt.xlabel('Total Vehicles by Engine Power - hp', fontsize=12, labelpad = 15)\n",
    "plt.ylabel('Density', fontsize=12, labelpad=15)\n",
    "plt.ylim(0, 0.015)\n",
    "plt.xlim(0, 610)\n",
    "plt.show()"
   ]
  },
  {
   "attachments": {},
   "cell_type": "markdown",
   "metadata": {},
   "source": [
    "Even though we may still have values ​​considered outliers above 400hp, it is completely plausible to have vehicles with these powers."
   ]
  },
  {
   "cell_type": "code",
   "execution_count": 13,
   "metadata": {},
   "outputs": [
    {
     "name": "stdout",
     "output_type": "stream",
     "text": [
      "['100' '145' '147' '156' '159' '1_reihe' '1er' '200' '2_reihe' '300c'\n",
      " '3_reihe' '3er' '4_reihe' '500' '5_reihe' '5er' '6_reihe' '6er' '7er'\n",
      " '80' '850' '90' '900' '9000' '911' 'a1' 'a2' 'a3' 'a4' 'a5' 'a6' 'a8'\n",
      " 'a_klasse' 'accord' 'agila' 'alhambra' 'almera' 'altea' 'amarok' 'antara'\n",
      " 'arosa' 'astra' 'auris' 'avensis' 'aveo' 'aygo' 'b_klasse' 'b_max'\n",
      " 'beetle' 'berlingo' 'bora' 'boxster' 'bravo' 'c1' 'c2' 'c3' 'c4' 'c5'\n",
      " 'c_klasse' 'c_max' 'c_reihe' 'caddy' 'calibra' 'captiva' 'carisma'\n",
      " 'carnival' 'cayenne' 'cc' 'ceed' 'charade' 'cherokee' 'citigo' 'civic'\n",
      " 'cl' 'clio' 'clk' 'clubman' 'colt' 'combo' 'cooper' 'cordoba' 'corolla'\n",
      " 'corsa' 'cr_reihe' 'croma' 'crossfire' 'cuore' 'cx_reihe' 'defender'\n",
      " 'delta' 'discovery' 'doblo' 'ducato' 'duster' 'e_klasse' 'eos' 'escort'\n",
      " 'espace' 'exeo' 'fabia' 'fiesta' 'focus' 'forester' 'forfour' 'fortwo'\n",
      " 'fox' 'freelander' 'fusion' 'g_klasse' 'galant' 'galaxy' 'getz' 'gl'\n",
      " 'glk' 'golf' 'grand' 'i3' 'i_reihe' 'ibiza' 'impreza' 'insignia' 'jazz'\n",
      " 'jetta' 'jimny' 'juke' 'justy' 'ka' 'kadett' 'kaefer' 'kalina' 'kalos'\n",
      " 'kangoo' 'kappa' 'kuga' 'laguna' 'lancer' 'lanos' 'legacy' 'leon' 'lodgy'\n",
      " 'logan' 'lupo' 'lybra' 'm_klasse' 'm_reihe' 'materia' 'matiz' 'megane'\n",
      " 'meriva' 'micra' 'mii' 'modus' 'mondeo' 'move' 'musa' 'mustang'\n",
      " 'mx_reihe' 'navara' 'niva' 'note' 'nubira' 'octavia' 'omega' 'one'\n",
      " 'other' 'outlander' 'pajero' 'panda' 'passat' 'phaeton' 'picanto' 'polo'\n",
      " 'primera' 'ptcruiser' 'punto' 'q3' 'q5' 'q7' 'qashqai' 'r19'\n",
      " 'range_rover' 'range_rover_evoque' 'range_rover_sport' 'rangerover' 'rav'\n",
      " 'rio' 'roadster' 'roomster' 'rx_reihe' 's60' 's_klasse' 's_max' 's_type'\n",
      " 'samara' 'sandero' 'santa' 'scenic' 'scirocco' 'seicento' 'serie_2'\n",
      " 'serie_3' 'sharan' 'signum' 'sirion' 'sl' 'slk' 'sorento' 'spark'\n",
      " 'spider' 'sportage' 'sprinter' 'stilo' 'superb' 'swift' 'terios' 'tigra'\n",
      " 'tiguan' 'toledo' 'touareg' 'touran' 'transit' 'transporter' 'tt'\n",
      " 'tucson' 'twingo' 'up' 'v40' 'v50' 'v60' 'v70' 'v_klasse' 'vectra'\n",
      " 'verso' 'viano' 'vito' 'vivaro' 'voyager' 'wrangler' 'x_reihe' 'x_trail'\n",
      " 'x_type' 'xc_reihe' 'yaris' 'yeti' 'ypsilon' 'z_reihe' 'zafira' nan]\n"
     ]
    }
   ],
   "source": [
    "# Analysis of the 'model' column\n",
    "print(df['model'].sort_values().unique())"
   ]
  },
  {
   "cell_type": "code",
   "execution_count": 14,
   "metadata": {},
   "outputs": [
    {
     "name": "stdout",
     "output_type": "stream",
     "text": [
      "[ 0  1  2  3  4  5  6  7  8  9 10 11 12]\n",
      "\n",
      "registration_month\n",
      "3     27777\n",
      "6     25684\n",
      "4     23850\n",
      "5     23656\n",
      "7     22074\n",
      "10    21059\n",
      "12    19600\n",
      "11    19565\n",
      "9     19316\n",
      "1     18415\n",
      "8     18272\n",
      "0     17811\n",
      "2     17216\n",
      "Name: count, dtype: int64\n",
      "\n",
      "Percentage of values ​​entered as zero in the month of registration: 6.493373922237007\n"
     ]
    }
   ],
   "source": [
    "# Analysis of the 'registration_month' column\n",
    "print(df['registration_month'].sort_values().unique())\n",
    "print()\n",
    "print(df['registration_month'].value_counts())\n",
    "print()\n",
    "print('Percentage of values ​​entered as zero in the month of registration:', \\\n",
    "      df['registration_month'].value_counts()[0] / len(df) * 100)"
   ]
  },
  {
   "attachments": {},
   "cell_type": "markdown",
   "metadata": {},
   "source": [
    "An inconsistency is observed that 17811 occurrences with month '0' (zero). This is equivalent to 6.49% of the rows and will be deleted."
   ]
  },
  {
   "cell_type": "code",
   "execution_count": 15,
   "metadata": {},
   "outputs": [
    {
     "name": "stdout",
     "output_type": "stream",
     "text": [
      "[ 1  2  3  4  5  6  7  8  9 10 11 12]\n",
      "\n",
      "registration_month\n",
      "3     27777\n",
      "6     25684\n",
      "4     23850\n",
      "5     23656\n",
      "7     22074\n",
      "10    21059\n",
      "12    19600\n",
      "11    19565\n",
      "9     19316\n",
      "1     18415\n",
      "8     18272\n",
      "2     17216\n",
      "Name: count, dtype: int64\n"
     ]
    }
   ],
   "source": [
    "# Deleting rows with '0' in the month of registration\n",
    "df = df.query(\"(registration_month > 0)\")\n",
    "\n",
    "# Checking\n",
    "print(df['registration_month'].sort_values().unique())\n",
    "print()\n",
    "print(df['registration_month'].value_counts())"
   ]
  },
  {
   "cell_type": "code",
   "execution_count": 16,
   "metadata": {},
   "outputs": [
    {
     "name": "stdout",
     "output_type": "stream",
     "text": [
      "['cng' 'electric' 'gasoline' 'hybrid' 'lpg' 'other' 'petrol' nan]\n",
      "\n",
      "fuel_type\n",
      "petrol      152828\n",
      "gasoline     85862\n",
      "lpg           4463\n",
      "cng            450\n",
      "hybrid         203\n",
      "other           47\n",
      "electric        27\n",
      "Name: count, dtype: int64\n"
     ]
    }
   ],
   "source": [
    "# Analysis of the 'fuel_type' column\n",
    "print(df['fuel_type'].sort_values().unique())\n",
    "print()\n",
    "print(df['fuel_type'].value_counts())"
   ]
  },
  {
   "attachments": {},
   "cell_type": "markdown",
   "metadata": {},
   "source": [
    "The fuel types 'petrol' and 'gasoline' are the same thing and so they will all be standardized as `petrol`."
   ]
  },
  {
   "cell_type": "code",
   "execution_count": 17,
   "metadata": {},
   "outputs": [
    {
     "name": "stdout",
     "output_type": "stream",
     "text": [
      "fuel_type\n",
      "petrol      238690\n",
      "lpg           4463\n",
      "cng            450\n",
      "hybrid         203\n",
      "other           47\n",
      "electric        27\n",
      "Name: count, dtype: int64\n"
     ]
    }
   ],
   "source": [
    "# Setting fuel type 'gasoline' to 'petrol'\n",
    "df['fuel_type'] = df['fuel_type'].replace('gasoline', 'petrol')\n",
    "\n",
    "# Checking\n",
    "print(df['fuel_type'].value_counts())"
   ]
  },
  {
   "cell_type": "code",
   "execution_count": 18,
   "metadata": {},
   "outputs": [
    {
     "name": "stdout",
     "output_type": "stream",
     "text": [
      "['alfa_romeo' 'audi' 'bmw' 'chevrolet' 'chrysler' 'citroen' 'dacia'\n",
      " 'daewoo' 'daihatsu' 'fiat' 'ford' 'honda' 'hyundai' 'jaguar' 'jeep' 'kia'\n",
      " 'lada' 'lancia' 'land_rover' 'mazda' 'mercedes_benz' 'mini' 'mitsubishi'\n",
      " 'nissan' 'opel' 'peugeot' 'porsche' 'renault' 'rover' 'saab' 'seat'\n",
      " 'skoda' 'smart' 'sonstige_autos' 'subaru' 'suzuki' 'toyota' 'volkswagen'\n",
      " 'volvo']\n"
     ]
    }
   ],
   "source": [
    "# Analysis of the 'brand' column\n",
    "print(df['brand'].sort_values().unique())"
   ]
  },
  {
   "cell_type": "code",
   "execution_count": 19,
   "metadata": {},
   "outputs": [
    {
     "name": "stdout",
     "output_type": "stream",
     "text": [
      "['no' 'yes' nan]\n"
     ]
    }
   ],
   "source": [
    "# Analysis of the 'not_repaired' column\n",
    "print(df['not_repaired'].sort_values().unique())"
   ]
  },
  {
   "cell_type": "code",
   "execution_count": 20,
   "metadata": {},
   "outputs": [
    {
     "data": {
      "text/html": [
       "<div>\n",
       "<style scoped>\n",
       "    .dataframe tbody tr th:only-of-type {\n",
       "        vertical-align: middle;\n",
       "    }\n",
       "\n",
       "    .dataframe tbody tr th {\n",
       "        vertical-align: top;\n",
       "    }\n",
       "\n",
       "    .dataframe thead th {\n",
       "        text-align: right;\n",
       "    }\n",
       "</style>\n",
       "<table border=\"1\" class=\"dataframe\">\n",
       "  <thead>\n",
       "    <tr style=\"text-align: right;\">\n",
       "      <th></th>\n",
       "      <th>price</th>\n",
       "      <th>vehicle_type</th>\n",
       "      <th>registration_year</th>\n",
       "      <th>gearbox</th>\n",
       "      <th>power</th>\n",
       "      <th>model</th>\n",
       "      <th>mileage</th>\n",
       "      <th>registration_month</th>\n",
       "      <th>fuel_type</th>\n",
       "      <th>brand</th>\n",
       "      <th>not_repaired</th>\n",
       "      <th>number_of_pictures</th>\n",
       "      <th>postal_code</th>\n",
       "    </tr>\n",
       "  </thead>\n",
       "  <tbody>\n",
       "    <tr>\n",
       "      <th>1</th>\n",
       "      <td>18300</td>\n",
       "      <td>coupe</td>\n",
       "      <td>2011</td>\n",
       "      <td>manual</td>\n",
       "      <td>190</td>\n",
       "      <td>NaN</td>\n",
       "      <td>125000</td>\n",
       "      <td>5</td>\n",
       "      <td>petrol</td>\n",
       "      <td>audi</td>\n",
       "      <td>yes</td>\n",
       "      <td>0</td>\n",
       "      <td>66954</td>\n",
       "    </tr>\n",
       "  </tbody>\n",
       "</table>\n",
       "</div>"
      ],
      "text/plain": [
       "   price vehicle_type  registration_year gearbox  power model  mileage  \\\n",
       "1  18300        coupe               2011  manual    190   NaN   125000   \n",
       "\n",
       "   registration_month fuel_type brand not_repaired  number_of_pictures  \\\n",
       "1                   5    petrol  audi          yes                   0   \n",
       "\n",
       "   postal_code  \n",
       "1        66954  "
      ]
     },
     "metadata": {},
     "output_type": "display_data"
    },
    {
     "name": "stdout",
     "output_type": "stream",
     "text": [
      "[0]\n"
     ]
    }
   ],
   "source": [
    "display(df.head(1))\n",
    "# Analysis of column 'number_of_pictures'\n",
    "print(df['number_of_pictures'].sort_values().unique())"
   ]
  },
  {
   "attachments": {},
   "cell_type": "markdown",
   "metadata": {},
   "source": [
    "The number of photos identified in the lines is not observed and therefore this column will be excluded, as it does not impact the predictions."
   ]
  },
  {
   "cell_type": "code",
   "execution_count": 21,
   "metadata": {},
   "outputs": [
    {
     "data": {
      "text/html": [
       "<div>\n",
       "<style scoped>\n",
       "    .dataframe tbody tr th:only-of-type {\n",
       "        vertical-align: middle;\n",
       "    }\n",
       "\n",
       "    .dataframe tbody tr th {\n",
       "        vertical-align: top;\n",
       "    }\n",
       "\n",
       "    .dataframe thead th {\n",
       "        text-align: right;\n",
       "    }\n",
       "</style>\n",
       "<table border=\"1\" class=\"dataframe\">\n",
       "  <thead>\n",
       "    <tr style=\"text-align: right;\">\n",
       "      <th></th>\n",
       "      <th>price</th>\n",
       "      <th>vehicle_type</th>\n",
       "      <th>registration_year</th>\n",
       "      <th>gearbox</th>\n",
       "      <th>power</th>\n",
       "      <th>model</th>\n",
       "      <th>mileage</th>\n",
       "      <th>registration_month</th>\n",
       "      <th>fuel_type</th>\n",
       "      <th>brand</th>\n",
       "      <th>not_repaired</th>\n",
       "      <th>postal_code</th>\n",
       "    </tr>\n",
       "  </thead>\n",
       "  <tbody>\n",
       "    <tr>\n",
       "      <th>1</th>\n",
       "      <td>18300</td>\n",
       "      <td>coupe</td>\n",
       "      <td>2011</td>\n",
       "      <td>manual</td>\n",
       "      <td>190</td>\n",
       "      <td>NaN</td>\n",
       "      <td>125000</td>\n",
       "      <td>5</td>\n",
       "      <td>petrol</td>\n",
       "      <td>audi</td>\n",
       "      <td>yes</td>\n",
       "      <td>66954</td>\n",
       "    </tr>\n",
       "  </tbody>\n",
       "</table>\n",
       "</div>"
      ],
      "text/plain": [
       "   price vehicle_type  registration_year gearbox  power model  mileage  \\\n",
       "1  18300        coupe               2011  manual    190   NaN   125000   \n",
       "\n",
       "   registration_month fuel_type brand not_repaired  postal_code  \n",
       "1                   5    petrol  audi          yes        66954  "
      ]
     },
     "metadata": {},
     "output_type": "display_data"
    }
   ],
   "source": [
    "# Deleting column 'number_of_pictures'\n",
    "df.drop(['number_of_pictures'], axis=1, inplace=True)\n",
    "\n",
    "# Checking\n",
    "display(df.head(1))"
   ]
  },
  {
   "cell_type": "code",
   "execution_count": 22,
   "metadata": {},
   "outputs": [],
   "source": [
    "# Resetting the index\n",
    "df = df.reset_index(drop=True)"
   ]
  },
  {
   "attachments": {},
   "cell_type": "markdown",
   "metadata": {},
   "source": [
    "After these data preparations, the missing values ​​still present will be analyzed."
   ]
  },
  {
   "attachments": {},
   "cell_type": "markdown",
   "metadata": {},
   "source": [
    "### Reanalysis of data after preparation"
   ]
  },
  {
   "cell_type": "code",
   "execution_count": 23,
   "metadata": {},
   "outputs": [
    {
     "data": {
      "text/html": [
       "<div>\n",
       "<style scoped>\n",
       "    .dataframe tbody tr th:only-of-type {\n",
       "        vertical-align: middle;\n",
       "    }\n",
       "\n",
       "    .dataframe tbody tr th {\n",
       "        vertical-align: top;\n",
       "    }\n",
       "\n",
       "    .dataframe thead th {\n",
       "        text-align: right;\n",
       "    }\n",
       "</style>\n",
       "<table border=\"1\" class=\"dataframe\">\n",
       "  <thead>\n",
       "    <tr style=\"text-align: right;\">\n",
       "      <th></th>\n",
       "      <th>price</th>\n",
       "      <th>vehicle_type</th>\n",
       "      <th>registration_year</th>\n",
       "      <th>gearbox</th>\n",
       "      <th>power</th>\n",
       "      <th>model</th>\n",
       "      <th>mileage</th>\n",
       "      <th>registration_month</th>\n",
       "      <th>fuel_type</th>\n",
       "      <th>brand</th>\n",
       "      <th>not_repaired</th>\n",
       "      <th>postal_code</th>\n",
       "    </tr>\n",
       "  </thead>\n",
       "  <tbody>\n",
       "    <tr>\n",
       "      <th>0</th>\n",
       "      <td>18300</td>\n",
       "      <td>coupe</td>\n",
       "      <td>2011</td>\n",
       "      <td>manual</td>\n",
       "      <td>190</td>\n",
       "      <td>NaN</td>\n",
       "      <td>125000</td>\n",
       "      <td>5</td>\n",
       "      <td>petrol</td>\n",
       "      <td>audi</td>\n",
       "      <td>yes</td>\n",
       "      <td>66954</td>\n",
       "    </tr>\n",
       "    <tr>\n",
       "      <th>1</th>\n",
       "      <td>9800</td>\n",
       "      <td>suv</td>\n",
       "      <td>2004</td>\n",
       "      <td>auto</td>\n",
       "      <td>163</td>\n",
       "      <td>grand</td>\n",
       "      <td>125000</td>\n",
       "      <td>8</td>\n",
       "      <td>petrol</td>\n",
       "      <td>jeep</td>\n",
       "      <td>NaN</td>\n",
       "      <td>90480</td>\n",
       "    </tr>\n",
       "    <tr>\n",
       "      <th>2</th>\n",
       "      <td>1500</td>\n",
       "      <td>small</td>\n",
       "      <td>2001</td>\n",
       "      <td>manual</td>\n",
       "      <td>75</td>\n",
       "      <td>golf</td>\n",
       "      <td>150000</td>\n",
       "      <td>6</td>\n",
       "      <td>petrol</td>\n",
       "      <td>volkswagen</td>\n",
       "      <td>no</td>\n",
       "      <td>91074</td>\n",
       "    </tr>\n",
       "    <tr>\n",
       "      <th>3</th>\n",
       "      <td>3600</td>\n",
       "      <td>small</td>\n",
       "      <td>2008</td>\n",
       "      <td>manual</td>\n",
       "      <td>69</td>\n",
       "      <td>fabia</td>\n",
       "      <td>90000</td>\n",
       "      <td>7</td>\n",
       "      <td>petrol</td>\n",
       "      <td>skoda</td>\n",
       "      <td>no</td>\n",
       "      <td>60437</td>\n",
       "    </tr>\n",
       "    <tr>\n",
       "      <th>4</th>\n",
       "      <td>650</td>\n",
       "      <td>sedan</td>\n",
       "      <td>1995</td>\n",
       "      <td>manual</td>\n",
       "      <td>102</td>\n",
       "      <td>3er</td>\n",
       "      <td>150000</td>\n",
       "      <td>10</td>\n",
       "      <td>petrol</td>\n",
       "      <td>bmw</td>\n",
       "      <td>yes</td>\n",
       "      <td>33775</td>\n",
       "    </tr>\n",
       "  </tbody>\n",
       "</table>\n",
       "</div>"
      ],
      "text/plain": [
       "   price vehicle_type  registration_year gearbox  power  model  mileage  \\\n",
       "0  18300        coupe               2011  manual    190    NaN   125000   \n",
       "1   9800          suv               2004    auto    163  grand   125000   \n",
       "2   1500        small               2001  manual     75   golf   150000   \n",
       "3   3600        small               2008  manual     69  fabia    90000   \n",
       "4    650        sedan               1995  manual    102    3er   150000   \n",
       "\n",
       "   registration_month fuel_type       brand not_repaired  postal_code  \n",
       "0                   5    petrol        audi          yes        66954  \n",
       "1                   8    petrol        jeep          NaN        90480  \n",
       "2                   6    petrol  volkswagen           no        91074  \n",
       "3                   7    petrol       skoda           no        60437  \n",
       "4                  10    petrol         bmw          yes        33775  "
      ]
     },
     "metadata": {},
     "output_type": "display_data"
    },
    {
     "name": "stdout",
     "output_type": "stream",
     "text": [
      "\n",
      "<class 'pandas.core.frame.DataFrame'>\n",
      "RangeIndex: 256484 entries, 0 to 256483\n",
      "Data columns (total 12 columns):\n",
      " #   Column              Non-Null Count   Dtype \n",
      "---  ------              --------------   ----- \n",
      " 0   price               256484 non-null  int64 \n",
      " 1   vehicle_type        242623 non-null  object\n",
      " 2   registration_year   256484 non-null  int64 \n",
      " 3   gearbox             253199 non-null  object\n",
      " 4   power               256484 non-null  int64 \n",
      " 5   model               247701 non-null  object\n",
      " 6   mileage             256484 non-null  int64 \n",
      " 7   registration_month  256484 non-null  int64 \n",
      " 8   fuel_type           243880 non-null  object\n",
      " 9   brand               256484 non-null  object\n",
      " 10  not_repaired        224557 non-null  object\n",
      " 11  postal_code         256484 non-null  int64 \n",
      "dtypes: int64(6), object(6)\n",
      "memory usage: 23.5+ MB\n"
     ]
    }
   ],
   "source": [
    "# Data preview\n",
    "display(df.head())\n",
    "print()\n",
    "df.info()"
   ]
  },
  {
   "cell_type": "code",
   "execution_count": 24,
   "metadata": {},
   "outputs": [
    {
     "name": "stdout",
     "output_type": "stream",
     "text": [
      "price                     0\n",
      "vehicle_type          13861\n",
      "registration_year         0\n",
      "gearbox                3285\n",
      "power                     0\n",
      "model                  8783\n",
      "mileage                   0\n",
      "registration_month        0\n",
      "fuel_type             12604\n",
      "brand                     0\n",
      "not_repaired          31927\n",
      "postal_code               0\n",
      "dtype: int64\n"
     ]
    }
   ],
   "source": [
    "# Missing values\n",
    "print(df.isna().sum())"
   ]
  },
  {
   "cell_type": "code",
   "execution_count": 25,
   "metadata": {},
   "outputs": [
    {
     "name": "stdout",
     "output_type": "stream",
     "text": [
      "Percentage of missing Vehicle Type values: 5.404235741800658\n",
      "Percentage of missing values for Transmission Case Type: 1.2807816471982658\n",
      "Percentage of missing values for Vehicle Model: 3.4243851468317708\n",
      "Percentage of missing Fuel Type values: 4.91414669141155\n",
      "Percentage of missing values if vehicle was Repaired: 12.447949969588747\n",
      "\n",
      "Percentage of rows with missing values: 19.90494533772087\n"
     ]
    }
   ],
   "source": [
    "# Percentages of missing values ​​by columns\n",
    "print('Percentage of missing Vehicle Type values:', df.vehicle_type.isna().sum() / len(df) * 100)\n",
    "print('Percentage of missing values for Transmission Case Type:', df.gearbox.isna().sum() / len(df) * 100)\n",
    "print('Percentage of missing values for Vehicle Model:', df.model.isna().sum() / len(df) * 100)\n",
    "print('Percentage of missing Fuel Type values:', df.fuel_type.isna().sum() / len(df) * 100)\n",
    "print('Percentage of missing values if vehicle was Repaired:', df.not_repaired.isna().sum() / len(df) * 100)\n",
    "print()\n",
    "\n",
    "# Percentages of rows with missing values\n",
    "print('Percentage of rows with missing values:', df.isna().any(axis=1).sum() / len(df) * 100)"
   ]
  },
  {
   "attachments": {},
   "cell_type": "markdown",
   "metadata": {},
   "source": [
    "There are still 19.9% ​​of rows with missing values ​​and they will be deleted so as not to impact model training."
   ]
  },
  {
   "cell_type": "code",
   "execution_count": 26,
   "metadata": {},
   "outputs": [
    {
     "name": "stdout",
     "output_type": "stream",
     "text": [
      "<class 'pandas.core.frame.DataFrame'>\n",
      "RangeIndex: 205431 entries, 0 to 205430\n",
      "Data columns (total 12 columns):\n",
      " #   Column              Non-Null Count   Dtype \n",
      "---  ------              --------------   ----- \n",
      " 0   price               205431 non-null  int64 \n",
      " 1   vehicle_type        205431 non-null  object\n",
      " 2   registration_year   205431 non-null  int64 \n",
      " 3   gearbox             205431 non-null  object\n",
      " 4   power               205431 non-null  int64 \n",
      " 5   model               205431 non-null  object\n",
      " 6   mileage             205431 non-null  int64 \n",
      " 7   registration_month  205431 non-null  int64 \n",
      " 8   fuel_type           205431 non-null  object\n",
      " 9   brand               205431 non-null  object\n",
      " 10  not_repaired        205431 non-null  object\n",
      " 11  postal_code         205431 non-null  int64 \n",
      "dtypes: int64(6), object(6)\n",
      "memory usage: 18.8+ MB\n"
     ]
    }
   ],
   "source": [
    "# Deleting rows with missing values\n",
    "df = df.dropna()\n",
    "df = df.reset_index(drop=True)\n",
    "\n",
    "# Checking\n",
    "df.info()"
   ]
  },
  {
   "attachments": {},
   "cell_type": "markdown",
   "metadata": {},
   "source": [
    "## Model training"
   ]
  },
  {
   "attachments": {},
   "cell_type": "markdown",
   "metadata": {},
   "source": [
    "### Preparing data"
   ]
  },
  {
   "attachments": {},
   "cell_type": "markdown",
   "metadata": {},
   "source": [
    "The data will be prepared for model testing and for this the categorical features will be encoded to numerical labels."
   ]
  },
  {
   "cell_type": "code",
   "execution_count": 27,
   "metadata": {},
   "outputs": [
    {
     "data": {
      "text/html": [
       "<div>\n",
       "<style scoped>\n",
       "    .dataframe tbody tr th:only-of-type {\n",
       "        vertical-align: middle;\n",
       "    }\n",
       "\n",
       "    .dataframe tbody tr th {\n",
       "        vertical-align: top;\n",
       "    }\n",
       "\n",
       "    .dataframe thead th {\n",
       "        text-align: right;\n",
       "    }\n",
       "</style>\n",
       "<table border=\"1\" class=\"dataframe\">\n",
       "  <thead>\n",
       "    <tr style=\"text-align: right;\">\n",
       "      <th></th>\n",
       "      <th>price</th>\n",
       "      <th>vehicle_type</th>\n",
       "      <th>registration_year</th>\n",
       "      <th>gearbox</th>\n",
       "      <th>power</th>\n",
       "      <th>model</th>\n",
       "      <th>mileage</th>\n",
       "      <th>registration_month</th>\n",
       "      <th>fuel_type</th>\n",
       "      <th>brand</th>\n",
       "      <th>not_repaired</th>\n",
       "      <th>postal_code</th>\n",
       "    </tr>\n",
       "  </thead>\n",
       "  <tbody>\n",
       "    <tr>\n",
       "      <th>0</th>\n",
       "      <td>1500</td>\n",
       "      <td>5.0</td>\n",
       "      <td>2001</td>\n",
       "      <td>1.0</td>\n",
       "      <td>75</td>\n",
       "      <td>114.0</td>\n",
       "      <td>150000</td>\n",
       "      <td>6</td>\n",
       "      <td>5.0</td>\n",
       "      <td>36.0</td>\n",
       "      <td>0.0</td>\n",
       "      <td>91074</td>\n",
       "    </tr>\n",
       "    <tr>\n",
       "      <th>1</th>\n",
       "      <td>3600</td>\n",
       "      <td>5.0</td>\n",
       "      <td>2008</td>\n",
       "      <td>1.0</td>\n",
       "      <td>69</td>\n",
       "      <td>99.0</td>\n",
       "      <td>90000</td>\n",
       "      <td>7</td>\n",
       "      <td>5.0</td>\n",
       "      <td>31.0</td>\n",
       "      <td>0.0</td>\n",
       "      <td>60437</td>\n",
       "    </tr>\n",
       "    <tr>\n",
       "      <th>2</th>\n",
       "      <td>650</td>\n",
       "      <td>4.0</td>\n",
       "      <td>1995</td>\n",
       "      <td>1.0</td>\n",
       "      <td>102</td>\n",
       "      <td>11.0</td>\n",
       "      <td>150000</td>\n",
       "      <td>10</td>\n",
       "      <td>5.0</td>\n",
       "      <td>2.0</td>\n",
       "      <td>1.0</td>\n",
       "      <td>33775</td>\n",
       "    </tr>\n",
       "    <tr>\n",
       "      <th>3</th>\n",
       "      <td>2200</td>\n",
       "      <td>1.0</td>\n",
       "      <td>2004</td>\n",
       "      <td>1.0</td>\n",
       "      <td>109</td>\n",
       "      <td>8.0</td>\n",
       "      <td>150000</td>\n",
       "      <td>8</td>\n",
       "      <td>5.0</td>\n",
       "      <td>25.0</td>\n",
       "      <td>0.0</td>\n",
       "      <td>67112</td>\n",
       "    </tr>\n",
       "    <tr>\n",
       "      <th>4</th>\n",
       "      <td>2000</td>\n",
       "      <td>4.0</td>\n",
       "      <td>2004</td>\n",
       "      <td>1.0</td>\n",
       "      <td>105</td>\n",
       "      <td>10.0</td>\n",
       "      <td>150000</td>\n",
       "      <td>12</td>\n",
       "      <td>5.0</td>\n",
       "      <td>19.0</td>\n",
       "      <td>0.0</td>\n",
       "      <td>96224</td>\n",
       "    </tr>\n",
       "  </tbody>\n",
       "</table>\n",
       "</div>"
      ],
      "text/plain": [
       "   price  vehicle_type  registration_year  gearbox  power  model  mileage  \\\n",
       "0   1500           5.0               2001      1.0     75  114.0   150000   \n",
       "1   3600           5.0               2008      1.0     69   99.0    90000   \n",
       "2    650           4.0               1995      1.0    102   11.0   150000   \n",
       "3   2200           1.0               2004      1.0    109    8.0   150000   \n",
       "4   2000           4.0               2004      1.0    105   10.0   150000   \n",
       "\n",
       "   registration_month  fuel_type  brand  not_repaired  postal_code  \n",
       "0                   6        5.0   36.0           0.0        91074  \n",
       "1                   7        5.0   31.0           0.0        60437  \n",
       "2                  10        5.0    2.0           1.0        33775  \n",
       "3                   8        5.0   25.0           0.0        67112  \n",
       "4                  12        5.0   19.0           0.0        96224  "
      ]
     },
     "metadata": {},
     "output_type": "display_data"
    },
    {
     "name": "stdout",
     "output_type": "stream",
     "text": [
      "\n",
      "<class 'pandas.core.frame.DataFrame'>\n",
      "RangeIndex: 205431 entries, 0 to 205430\n",
      "Data columns (total 12 columns):\n",
      " #   Column              Non-Null Count   Dtype  \n",
      "---  ------              --------------   -----  \n",
      " 0   price               205431 non-null  int64  \n",
      " 1   vehicle_type        205431 non-null  float64\n",
      " 2   registration_year   205431 non-null  int64  \n",
      " 3   gearbox             205431 non-null  float64\n",
      " 4   power               205431 non-null  int64  \n",
      " 5   model               205431 non-null  float64\n",
      " 6   mileage             205431 non-null  int64  \n",
      " 7   registration_month  205431 non-null  int64  \n",
      " 8   fuel_type           205431 non-null  float64\n",
      " 9   brand               205431 non-null  float64\n",
      " 10  not_repaired        205431 non-null  float64\n",
      " 11  postal_code         205431 non-null  int64  \n",
      "dtypes: float64(6), int64(6)\n",
      "memory usage: 18.8 MB\n"
     ]
    }
   ],
   "source": [
    "# Creating a copy of the Dataframe\n",
    "df_new = df.copy()\n",
    "\n",
    "# Selecting columns with categorical characteristics\n",
    "object_columns = df_new.select_dtypes(include='object')\n",
    "\n",
    "# Encoding categorical columns\n",
    "encoder = OrdinalEncoder()\n",
    "codification = pd.DataFrame(encoder.fit_transform(object_columns), columns=object_columns.columns)\n",
    "\n",
    "# Replacing the original df columns with the encoded columns\n",
    "df_new[object_columns.columns] = codification\n",
    "\n",
    "# Verificando\n",
    "display(df_new.head())\n",
    "print()\n",
    "df_new.info()"
   ]
  },
  {
   "attachments": {},
   "cell_type": "markdown",
   "metadata": {},
   "source": [
    "### Dividing Data into Features and Purpose"
   ]
  },
  {
   "attachments": {},
   "cell_type": "markdown",
   "metadata": {},
   "source": [
    "The DataFrame 'df_new' is the one that will be used for modeling, as it was prepared from the original 'df'.\n",
    "\n",
    "The data will be separated into feature sets and objectives."
   ]
  },
  {
   "cell_type": "code",
   "execution_count": 28,
   "metadata": {},
   "outputs": [
    {
     "name": "stdout",
     "output_type": "stream",
     "text": [
      "(205431, 11)\n",
      "(205431,)\n"
     ]
    }
   ],
   "source": [
    "# Preparing feature and target sets\n",
    "features = df_new.drop(['price'], axis=1)\n",
    "target = df_new['price']\n",
    "\n",
    "print(features.shape)\n",
    "print(target.shape)"
   ]
  },
  {
   "attachments": {},
   "cell_type": "markdown",
   "metadata": {},
   "source": [
    "### Separating the data sets"
   ]
  },
  {
   "attachments": {},
   "cell_type": "markdown",
   "metadata": {},
   "source": [
    "The data will be split as follows, starting from `df_new`:\n",
    "- 20% for testing\n",
    "- 80% for training\n",
    "\n",
    "And this training data will be split as follows:\n",
    "- 20% for validation\n",
    "- 80% for training"
   ]
  },
  {
   "cell_type": "code",
   "execution_count": 29,
   "metadata": {},
   "outputs": [
    {
     "name": "stdout",
     "output_type": "stream",
     "text": [
      "(164344, 11)\n",
      "(164344,)\n",
      "(41087, 11)\n",
      "(41087,)\n"
     ]
    }
   ],
   "source": [
    "# Splitting training and testing sets\n",
    "features_train, features_test, target_train, target_test = train_test_split(\n",
    "    features, target, test_size=0.20, random_state=12345)\n",
    "\n",
    "print(features_train.shape)\n",
    "print(target_train.shape)\n",
    "print(features_test.shape)\n",
    "print(target_test.shape)"
   ]
  },
  {
   "cell_type": "code",
   "execution_count": 30,
   "metadata": {},
   "outputs": [
    {
     "name": "stdout",
     "output_type": "stream",
     "text": [
      "(131475, 11)\n",
      "(131475,)\n",
      "(32869, 11)\n",
      "(32869,)\n"
     ]
    }
   ],
   "source": [
    "# Splitting the training set into training and validation\n",
    "features_train, features_valid, target_train, target_valid = train_test_split(\n",
    "    features_train, target_train, test_size=0.20, random_state=12345)\n",
    "\n",
    "print(features_train.shape)\n",
    "print(target_train.shape)\n",
    "print(features_valid.shape)\n",
    "print(target_valid.shape)"
   ]
  },
  {
   "attachments": {},
   "cell_type": "markdown",
   "metadata": {},
   "source": [
    "## Training Regression Models"
   ]
  },
  {
   "attachments": {},
   "cell_type": "markdown",
   "metadata": {},
   "source": [
    "### Decision Tree"
   ]
  },
  {
   "cell_type": "code",
   "execution_count": 31,
   "metadata": {},
   "outputs": [
    {
     "name": "stdout",
     "output_type": "stream",
     "text": [
      "The best REQM result of the Decision Tree is with the max_depth hyperparameter of 13: 2004.8680690054737\n"
     ]
    }
   ],
   "source": [
    "# Decision Tree Modeling searching for the best hyperparameter.\n",
    "best_model_ad = None\n",
    "best_result = 10000\n",
    "best_depth = 0\n",
    "best_time = 0\n",
    "for depth in range(1, 15):\n",
    "    model_ad = DecisionTreeRegressor(random_state=12345, max_depth=depth)\n",
    "    model_ad.fit(features_train, target_train) \n",
    "    predictions_valid_ad = model_ad.predict(features_valid)\n",
    "    result = mse(target_valid, predictions_valid_ad) ** 0.5\n",
    "    if result < best_result:\n",
    "        best_model_ad = model_ad\n",
    "        best_result = result\n",
    "        best_depth = depth\n",
    "        \n",
    "\n",
    "print(f\"The best REQM result of the Decision Tree is with the max_depth hyperparameter of {best_depth}: {best_result}\")"
   ]
  },
  {
   "cell_type": "code",
   "execution_count": 32,
   "metadata": {},
   "outputs": [
    {
     "name": "stdout",
     "output_type": "stream",
     "text": [
      "72.4 ms ± 20 ms per loop (mean ± std. dev. of 7 runs, 10 loops each)\n"
     ]
    }
   ],
   "source": [
    "%%timeit\n",
    "# Decision Tree model prediction time\n",
    "best_model_ad.predict(features)"
   ]
  },
  {
   "attachments": {},
   "cell_type": "markdown",
   "metadata": {},
   "source": [
    "### Random Forest"
   ]
  },
  {
   "cell_type": "code",
   "execution_count": 33,
   "metadata": {},
   "outputs": [
    {
     "name": "stdout",
     "output_type": "stream",
     "text": [
      "The best RMSE result for Random Forest is: 1952.2887702031803 , with the hyperparameter n_estimators of: 45 and better depth of: 10\n"
     ]
    }
   ],
   "source": [
    "# Modelagem da Floresta Aleatória buscando o melhor hiperparâmetro.\n",
    "best_model = None\n",
    "best_result = 10000\n",
    "best_est = 0\n",
    "best_depth = 0\n",
    "for est in range(40, 51, 5):\n",
    "    for depth in range (10, 15, 5):\n",
    "        model_fa = RandomForestRegressor(random_state=12345, n_estimators=est, max_depth=depth)\n",
    "        model_fa.fit(features_train, target_train)\n",
    "        predictions_valid_fa = model_fa.predict(features_valid) \n",
    "        result = mse(target_valid, predictions_valid_fa) ** 0.5\n",
    "        if result < best_result:\n",
    "            best_model = model_fa\n",
    "            best_result = result\n",
    "            best_est = est\n",
    "            best_depth = depth\n",
    "\n",
    "print(\"The best RMSE result for Random Forest is:\", best_result, \", with the hyperparameter n_estimators of:\", best_est, \"and better depth of:\", depth)"
   ]
  },
  {
   "cell_type": "code",
   "execution_count": 34,
   "metadata": {},
   "outputs": [
    {
     "name": "stdout",
     "output_type": "stream",
     "text": [
      "918 ms ± 39.3 ms per loop (mean ± std. dev. of 7 runs, 1 loop each)\n"
     ]
    }
   ],
   "source": [
    "%%timeit\n",
    "# Random Forest model runtime\n",
    "best_model.predict(features)"
   ]
  },
  {
   "attachments": {},
   "cell_type": "markdown",
   "metadata": {},
   "source": [
    "### Linear Regression"
   ]
  },
  {
   "cell_type": "code",
   "execution_count": 35,
   "metadata": {},
   "outputs": [
    {
     "name": "stdout",
     "output_type": "stream",
     "text": [
      "Linear Regression RMSE value is: 2967.8264317873654\n"
     ]
    }
   ],
   "source": [
    "# Linear Regression Modeling\n",
    "model_rl = LinearRegression() \n",
    "model_rl.fit(features_train, target_train) \n",
    "predictions_valid_rl = model_rl.predict(features_valid) \n",
    "\n",
    "result = mse(target_valid, predictions_valid_rl) ** 0.5 \n",
    "print(\"Linear Regression RMSE value is:\", result)"
   ]
  },
  {
   "cell_type": "code",
   "execution_count": 36,
   "metadata": {},
   "outputs": [
    {
     "name": "stdout",
     "output_type": "stream",
     "text": [
      "13.2 ms ± 790 μs per loop (mean ± std. dev. of 7 runs, 10 loops each)\n"
     ]
    }
   ],
   "source": [
    "%%timeit\n",
    "# Linear Regression Runtime\n",
    "model_rl.predict(features)"
   ]
  },
  {
   "attachments": {},
   "cell_type": "markdown",
   "metadata": {},
   "source": [
    "### Conclusions"
   ]
  },
  {
   "attachments": {},
   "cell_type": "markdown",
   "metadata": {},
   "source": [
    "The model with the best **REQM** score was the Random Forest model, while the one with the worst performance was the Linear Regression model.\n",
    "\n",
    "In terms of execution time, the Random Forest model had the worst performance to train, while the Linear Regression model was the fastest."
   ]
  },
  {
   "attachments": {},
   "cell_type": "markdown",
   "metadata": {},
   "source": [
    "## Boosting"
   ]
  },
  {
   "attachments": {},
   "cell_type": "markdown",
   "metadata": {},
   "source": [
    "### XGBoost"
   ]
  },
  {
   "cell_type": "code",
   "execution_count": 37,
   "metadata": {},
   "outputs": [
    {
     "name": "stdout",
     "output_type": "stream",
     "text": [
      "\n",
      "The REQM value of the XGBoost Model is: 1805.0235455527998\n"
     ]
    }
   ],
   "source": [
    "# XGBoost Modeling\n",
    "lbl = LabelEncoder()\n",
    "features_train.vehicle_type = lbl.fit_transform(features_train.vehicle_type.astype(str))\n",
    "features_train.gearbox = lbl.fit_transform(features_train.gearbox.astype(str))\n",
    "features_train.model = lbl.fit_transform(features_train.model.astype(str))\n",
    "features_train.fuel_type = lbl.fit_transform(features_train.fuel_type.astype(str))\n",
    "features_train.brand = lbl.fit_transform(features_train.brand.astype(str))\n",
    "features_train.not_repaired = lbl.fit_transform(features_train.not_repaired.astype(str))\n",
    "\n",
    "features_valid.vehicle_type = lbl.fit_transform(features_valid.vehicle_type.astype(str))\n",
    "features_valid.gearbox = lbl.fit_transform(features_valid.gearbox.astype(str))\n",
    "features_valid.model = lbl.fit_transform(features_valid.model.astype(str))\n",
    "features_valid.fuel_type = lbl.fit_transform(features_valid.fuel_type.astype(str))\n",
    "features_valid.brand = lbl.fit_transform(features_valid.brand.astype(str))\n",
    "features_valid.not_repaired = lbl.fit_transform(features_valid.not_repaired.astype(str))\n",
    "\n",
    "\n",
    "# Creating XGBoost model\n",
    "model_xgb = xgb.XGBRegressor(random_state=12345, eval_metric='rmse')\n",
    "model_xgb.fit(features_train, target_train)\n",
    "predictions_xgb = model_xgb.predict(features_valid)\n",
    "result = mse(target_valid, predictions_xgb) ** 0.5\n",
    "print()\n",
    "print(\"The REQM value of the XGBoost Model is:\", result)"
   ]
  },
  {
   "cell_type": "code",
   "execution_count": 38,
   "metadata": {},
   "outputs": [
    {
     "name": "stdout",
     "output_type": "stream",
     "text": [
      "330 ms ± 55.4 ms per loop (mean ± std. dev. of 7 runs, 1 loop each)\n"
     ]
    }
   ],
   "source": [
    "%%timeit\n",
    "# XGBoost Model Runtime\n",
    "model_xgb.predict(features)"
   ]
  },
  {
   "cell_type": "markdown",
   "metadata": {},
   "source": [
    "### Light GBM"
   ]
  },
  {
   "cell_type": "code",
   "execution_count": 39,
   "metadata": {},
   "outputs": [
    {
     "name": "stdout",
     "output_type": "stream",
     "text": [
      "Training until validation scores don't improve for 10 rounds\n",
      "Did not meet early stopping. Best iteration is:\n",
      "[99]\tvalid_0's rmse: 2485.5\n",
      "\n",
      "The REQM value of the LightGB Model is: 2485.49991431267\n"
     ]
    }
   ],
   "source": [
    "# Light GBM Modeling\n",
    "# Preparing data\n",
    "features_train['vehicle_type'] = pd.Categorical(features_train['vehicle_type'])\n",
    "features_train['gearbox'] = pd.Categorical(features_train['gearbox'])\n",
    "features_train['model'] = pd.Categorical(features_train['model'])\n",
    "features_train['fuel_type'] = pd.Categorical(features_train['fuel_type'])\n",
    "features_train['brand'] = pd.Categorical(features_train['brand'])\n",
    "features_train['not_repaired'] = pd.Categorical(features_train['not_repaired'])\n",
    "\n",
    "features_valid['vehicle_type'] = pd.Categorical(features_valid['vehicle_type'])\n",
    "features_valid['gearbox'] = pd.Categorical(features_valid['gearbox'])\n",
    "features_valid['model'] = pd.Categorical(features_valid['model'])\n",
    "features_valid['fuel_type'] = pd.Categorical(features_valid['fuel_type'])\n",
    "features_valid['brand'] = pd.Categorical(features_valid['brand'])\n",
    "features_valid['not_repaired'] = pd.Categorical(features_valid['not_repaired'])\n",
    "\n",
    "\n",
    "# Creating LightGBM dataset\n",
    "lgb_train = lgb.Dataset(features_train, label=target_train, params={'verbose': -1}, free_raw_data=False)\n",
    "lgb_valid = lgb.Dataset(features_valid, label=target_valid, reference=lgb_train, params={'verbose': -1}, free_raw_data=False)\n",
    "\n",
    "# Defining parameters for the LightGBM model\n",
    "params = {\n",
    "    'objective': 'regression',\n",
    "    'metric': 'root_mean_squared_error',\n",
    "    'boosting_type': 'gbdt',\n",
    "    'num_leaves': 10,\n",
    "    'learning_rate':0.05,\n",
    "    'feature_fraction':0.5,\n",
    "    'random_state': 12345,\n",
    "    'verbose':-1\n",
    "}\n",
    "\n",
    "\n",
    "# Training LightGBM Model\n",
    "model_lgb = lgb.train(params, lgb_train, valid_sets=[lgb_valid], num_boost_round=100, callbacks=[early_stopping(stopping_rounds=10), log_evaluation(0)])\n",
    "\n",
    "# Validation set predictions\n",
    "predictions_valid_lgb = model_lgb.predict(features_valid)\n",
    "\n",
    "result = mse(target_valid, predictions_valid_lgb) ** 0.5 \n",
    "print()\n",
    "print(\"The REQM value of the LightGB Model is:\", result)"
   ]
  },
  {
   "cell_type": "code",
   "execution_count": 40,
   "metadata": {},
   "outputs": [
    {
     "name": "stdout",
     "output_type": "stream",
     "text": [
      "<class 'pandas.core.frame.DataFrame'>\n",
      "RangeIndex: 205431 entries, 0 to 205430\n",
      "Data columns (total 11 columns):\n",
      " #   Column              Non-Null Count   Dtype   \n",
      "---  ------              --------------   -----   \n",
      " 0   vehicle_type        205431 non-null  category\n",
      " 1   registration_year   205431 non-null  int64   \n",
      " 2   gearbox             205431 non-null  category\n",
      " 3   power               205431 non-null  int64   \n",
      " 4   model               205431 non-null  category\n",
      " 5   mileage             205431 non-null  int64   \n",
      " 6   registration_month  205431 non-null  int64   \n",
      " 7   fuel_type           205431 non-null  category\n",
      " 8   brand               205431 non-null  category\n",
      " 9   not_repaired        205431 non-null  category\n",
      " 10  postal_code         205431 non-null  int64   \n",
      "dtypes: category(6), int64(5)\n",
      "memory usage: 9.2 MB\n"
     ]
    }
   ],
   "source": [
    "# Preparing data\n",
    "features_lgb = features.copy()\n",
    "\n",
    "features_lgb['vehicle_type'] = pd.Categorical(features_lgb['vehicle_type'])\n",
    "features_lgb['gearbox'] = pd.Categorical(features_lgb['gearbox'])\n",
    "features_lgb['model'] = pd.Categorical(features_lgb['model'])\n",
    "features_lgb['fuel_type'] = pd.Categorical(features_lgb['fuel_type'])\n",
    "features_lgb['brand'] = pd.Categorical(features_lgb['brand'])\n",
    "features_lgb['not_repaired'] = pd.Categorical(features_lgb['not_repaired'])\n",
    "\n",
    "features_lgb.info()"
   ]
  },
  {
   "cell_type": "code",
   "execution_count": 41,
   "metadata": {},
   "outputs": [
    {
     "name": "stdout",
     "output_type": "stream",
     "text": [
      "9.74 ms ± 393 μs per loop (mean ± std. dev. of 7 runs, 100 loops each)\n"
     ]
    }
   ],
   "source": [
    "%%timeit\n",
    "# Light GBM Model Runtime\n",
    "model_lgb.predict(features_lgb[:2])"
   ]
  },
  {
   "attachments": {},
   "cell_type": "markdown",
   "metadata": {},
   "source": [
    "## Conclusion"
   ]
  },
  {
   "attachments": {},
   "cell_type": "markdown",
   "metadata": {},
   "source": [
    "Boosting models have a good balance between speed and prediction quality of the model. Among all the models, Regression and Boosting, the one with the best RMSE result and also the fastest prediction is the XG Boost Model. It is suggested that Rusty Bargain implement this machine learning model to predict the market value of a car."
   ]
  }
 ],
 "metadata": {
  "kernelspec": {
   "display_name": "Python 3 (ipykernel)",
   "language": "python",
   "name": "python3"
  },
  "language_info": {
   "codemirror_mode": {
    "name": "ipython",
    "version": 3
   },
   "file_extension": ".py",
   "mimetype": "text/x-python",
   "name": "python",
   "nbconvert_exporter": "python",
   "pygments_lexer": "ipython3",
   "version": "3.10.13"
  },
  "toc": {
   "base_numbering": 1,
   "nav_menu": {},
   "number_sections": true,
   "sideBar": true,
   "skip_h1_title": true,
   "title_cell": "Table of Contents",
   "title_sidebar": "Contents",
   "toc_cell": false,
   "toc_position": {},
   "toc_section_display": true,
   "toc_window_display": false
  }
 },
 "nbformat": 4,
 "nbformat_minor": 2
}
